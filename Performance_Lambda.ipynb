{
 "cells": [
  {
   "cell_type": "code",
   "execution_count": 2,
   "metadata": {},
   "outputs": [],
   "source": [
    "import logging\n",
    "import boto3\n",
    "import json\n",
    "import sys\n",
    "from boto3 import client\n",
    "from boto3.session import Session"
   ]
  },
  {
   "cell_type": "code",
   "execution_count": 4,
   "metadata": {},
   "outputs": [],
   "source": [
    "def lambda_handler(event,context):\n",
    "    logger=logging.getLogger()\n",
    "    logger.setLevel(logging.INFO)\n",
    "    AWS_ACCESS_KEY_ID='AWS_ACCESS_KEY_ID'\n",
    "    AWS_SECRET_ACCESS_KEY='AWS_SECRET_ACCESS_KEY'\n",
    "    source_bucket=\"source_bucket\"\n",
    "    file_name='worldcountries.json'\n",
    "    output_bucket='output_bucket'\n",
    "    session = Session(aws_access_key_id=AWS_ACCESS_KEY_ID,aws_secret_access_key=AWS_SECRET_ACCESS_KEY)\n",
    "    s3 = session.client('s3',region_name='ap-southeast-1',aws_access_key_id=AWS_ACCESS_KEY_ID,aws_secret_access_key=AWS_SECRET_ACCESS_KEY)\n",
    "    get_object=s3.get_object(Bucket=source_bucket, key=file_name)\n",
    "    logger.info(\"get_object\")\n",
    "    logger.info(get_object)\n",
    "    \n",
    "    if get_object.get('Body') is not None:\n",
    "        input = get_object['Body'].read()\n",
    "        logger.info(type(input))\n",
    "        \n",
    "        logger.info(\"Input Size: \")\n",
    "        logger.info(sys.getsizeof(input))\n",
    "        \n",
    "        s3_put_response=s3.put_object(Body=input,Bucket=output_bucket,key=file_name)\n",
    "        logger.info(s3_put_response)\n",
    "        \n",
    "        get_s3_response=s3.client.get_object(Bucket=source_bucket, key=file_name)\n",
    "        get_out_object=get_s3_response.get['Body']\n",
    "        out_body_stream=get_out_object['Body'].read()\n",
    "        \n",
    "        logger.info(type(out_body_stream))\n",
    "        logger.info(\"Output size: \")\n",
    "        logger.info(sys.getsizeof(out_body_stream))\n",
    "        \n",
    "        return {\n",
    "        'statusCode': 200,\n",
    "        'body': json.dumps('Hello from Lambda!')\n",
    "    }    "
   ]
  }
 ],
 "metadata": {
  "kernelspec": {
   "display_name": "Python 2",
   "language": "python",
   "name": "python2"
  },
  "language_info": {
   "codemirror_mode": {
    "name": "ipython",
    "version": 2
   },
   "file_extension": ".py",
   "mimetype": "text/x-python",
   "name": "python",
   "nbconvert_exporter": "python",
   "pygments_lexer": "ipython2",
   "version": "2.7.16"
  }
 },
 "nbformat": 4,
 "nbformat_minor": 2
}
