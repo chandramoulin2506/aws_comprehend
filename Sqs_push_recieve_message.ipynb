{
 "cells": [
  {
   "cell_type": "code",
   "execution_count": 59,
   "metadata": {},
   "outputs": [],
   "source": [
    "import boto3\n",
    "import json\n",
    "from boto3 import client\n",
    "from boto3.session import Session"
   ]
  },
  {
   "cell_type": "code",
   "execution_count": 60,
   "metadata": {},
   "outputs": [],
   "source": [
    "#aws access and secret key\n",
    "AWS_ACCESS_KEY_ID='AWS_ACCESS_KEY_ID'\n",
    "AWS_SECRET_ACCESS_KEY='AWS_SECRET_ACCESS_KEY'"
   ]
  },
  {
   "cell_type": "code",
   "execution_count": 85,
   "metadata": {},
   "outputs": [],
   "source": [
    "REGION = 'us-east-1'\n",
    "QUEUE_NAME='dev-sqs'\n",
    "bucketDirectory=\"<buketName>\"\n",
    "buketName=\"medication/medication_input.json\""
   ]
  },
  {
   "cell_type": "code",
   "execution_count": 62,
   "metadata": {},
   "outputs": [],
   "source": [
    "def create_sqs_queue():\n",
    "    sqs = boto3.client(\"sqs\",aws_access_key_id=AWS_ACCESS_KEY_ID,\n",
    "                          aws_secret_access_key=AWS_SECRET_ACCESS_KEY, region_name=REGION)\n",
    "    sqs_queue = sqs.create_queue(QueueName=QUEUE_NAME)       \n",
    "    print(sqs_queue)"
   ]
  },
  {
   "cell_type": "code",
   "execution_count": 63,
   "metadata": {},
   "outputs": [
    {
     "name": "stdout",
     "output_type": "stream",
     "text": [
      "{u'QueueUrl': 'https://queue.amazonaws.com/822766594142/dev-sqs', 'ResponseMetadata': {'RetryAttempts': 0, 'HTTPStatusCode': 200, 'RequestId': 'e6370181-faf6-55a5-b850-5721f7bf56ae', 'HTTPHeaders': {'x-amzn-requestid': 'e6370181-faf6-55a5-b850-5721f7bf56ae', 'date': 'Mon, 20 Jan 2020 20:18:17 GMT', 'content-length': '319', 'content-type': 'text/xml'}}}\n"
     ]
    }
   ],
   "source": [
    "create_sqs_queue()"
   ]
  },
  {
   "cell_type": "code",
   "execution_count": 65,
   "metadata": {},
   "outputs": [],
   "source": [
    "def get_queue_url():\n",
    "    sqs = boto3.resource(\"sqs\",aws_access_key_id=AWS_ACCESS_KEY_ID,\n",
    "                          aws_secret_access_key=AWS_SECRET_ACCESS_KEY, region_name=REGION)\n",
    "    queue_name=sqs.get_queue_by_name(QueueName=QUEUE_NAME)\n",
    "    print(queue_name)"
   ]
  },
  {
   "cell_type": "code",
   "execution_count": 66,
   "metadata": {},
   "outputs": [
    {
     "name": "stdout",
     "output_type": "stream",
     "text": [
      "sqs.Queue(url='https://queue.amazonaws.com/822766594142/dev-sqs')\n"
     ]
    }
   ],
   "source": [
    "get_queue_url()"
   ]
  },
  {
   "cell_type": "code",
   "execution_count": 67,
   "metadata": {},
   "outputs": [],
   "source": [
    "def list_queue_url():\n",
    "    sqs = boto3.client(\"sqs\",aws_access_key_id=AWS_ACCESS_KEY_ID,\n",
    "                          aws_secret_access_key=AWS_SECRET_ACCESS_KEY, region_name=REGION)\n",
    "    list_queues=sqs.list_queues(QueueName=QUEUE_NAME)\n",
    "    print(list_queues)"
   ]
  },
  {
   "cell_type": "code",
   "execution_count": 97,
   "metadata": {},
   "outputs": [],
   "source": [
    "def push_messages_to_sqs_queue():\n",
    "    sqs = boto3.resource(\"sqs\",aws_access_key_id=AWS_ACCESS_KEY_ID,\n",
    "                          aws_secret_access_key=AWS_SECRET_ACCESS_KEY, region_name=REGION)\n",
    "    queue = sqs.get_queue_by_name(QueueName=QUEUE_NAME)\n",
    "    msg = queue.send_message(\n",
    "        MessageBody=\"derp\",\n",
    "        MessageAttributes={\n",
    "           \"timestamp\": {\"StringValue\": \"1493147359900\", \"DataType\": \"Number\"}\n",
    "       },\n",
    "    )\n",
    "\n",
    "    messages = queue.receive_messages()\n",
    "    #print(messages)"
   ]
  },
  {
   "cell_type": "code",
   "execution_count": 2,
   "metadata": {},
   "outputs": [
    {
     "data": {
      "image/png": "[encoded data removed]",
      "text/plain": [
       "<IPython.core.display.Image object>"
      ]
     },
     "execution_count": 2,
     "metadata": {},
     "output_type": "execute_result"
    }
   ],
   "source": [
    "push_messages_to_sqs_queue()\n",
    "from IPython.display import Image\n",
    "Image(filename='sqs_push.png')"
   ]
  },
  {
   "cell_type": "code",
   "execution_count": 45,
   "metadata": {},
   "outputs": [],
   "source": [
    "def get_messages_from_sqs_queue():\n",
    "    sqs = boto3.resource(\"sqs\",aws_access_key_id=AWS_ACCESS_KEY_ID,\n",
    "                          aws_secret_access_key=AWS_SECRET_ACCESS_KEY, region_name=REGION)        \n",
    "    queue_url = sqs.get_queue_by_name(QueueName=QUEUE_NAME)\n",
    "    #connect sqs using boto3 \n",
    "    sqs_client = boto3.client('sqs')\n",
    "    msgs = sqs_client.receive_message(QueueUrl=queue_url,AttributeNames=['All'], MaxNumberOfMessages=10)\n",
    "    return msgs['Messages']"
   ]
  }
 ],
 "metadata": {
  "kernelspec": {
   "display_name": "Python 2",
   "language": "python",
   "name": "python2"
  },
  "language_info": {
   "codemirror_mode": {
    "name": "ipython",
    "version": 2
   },
   "file_extension": ".py",
   "mimetype": "text/x-python",
   "name": "python",
   "nbconvert_exporter": "python",
   "pygments_lexer": "ipython2",
   "version": "2.7.16"
  }
 },
 "nbformat": 4,
 "nbformat_minor": 2
}
